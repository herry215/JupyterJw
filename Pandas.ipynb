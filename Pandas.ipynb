{
 "cells": [
  {
   "cell_type": "code",
   "execution_count": 1,
   "id": "770202fa-2c35-416b-9800-b2ceaddcd2bc",
   "metadata": {},
   "outputs": [],
   "source": [
    "import pandas as pd"
   ]
  },
  {
   "cell_type": "code",
   "execution_count": 2,
   "id": "987166ca-2836-40b3-9534-481539eea970",
   "metadata": {},
   "outputs": [
    {
     "name": "stdout",
     "output_type": "stream",
     "text": [
      "0    80\n",
      "1    82\n",
      "2    84\n",
      "3    86\n",
      "4    88\n",
      "5    90\n",
      "6    92\n",
      "7    94\n",
      "8    96\n",
      "9    98\n",
      "dtype: int64\n"
     ]
    }
   ],
   "source": [
    "grades = pd.Series(range(80,100,2))\n",
    "print(grades)"
   ]
  },
  {
   "cell_type": "code",
   "execution_count": 3,
   "id": "036872d3-8488-4e03-97b0-4a14b3214666",
   "metadata": {},
   "outputs": [
    {
     "name": "stdout",
     "output_type": "stream",
     "text": [
      "count    10.000000\n",
      "mean     89.000000\n",
      "std       6.055301\n",
      "min      80.000000\n",
      "25%      84.500000\n",
      "50%      89.000000\n",
      "75%      93.500000\n",
      "max      98.000000\n",
      "dtype: float64\n",
      "10\n"
     ]
    }
   ],
   "source": [
    "print(grades.describe())\n",
    "print(len(grades))"
   ]
  },
  {
   "cell_type": "code",
   "execution_count": 4,
   "id": "3cdb2cae-f462-479f-8c6c-f6caaaac1f23",
   "metadata": {},
   "outputs": [
    {
     "name": "stdout",
     "output_type": "stream",
     "text": [
      "Kim     175\n",
      "kwon    184\n",
      "lee     170\n",
      "dtype: int64\n",
      "184 184 184\n"
     ]
    }
   ],
   "source": [
    "height = pd.Series([175,184,170], index=['Kim','kwon','lee'])\n",
    "print(height)\n",
    "print(height.kwon, height['kwon'], height[1])"
   ]
  },
  {
   "cell_type": "code",
   "execution_count": 5,
   "id": "5e1073ea-cd27-4e87-bb24-80f72f568149",
   "metadata": {},
   "outputs": [
    {
     "name": "stdout",
     "output_type": "stream",
     "text": [
      "korea    82\n",
      "Japan    81\n",
      "China    cn\n",
      "dtype: object\n"
     ]
    }
   ],
   "source": [
    "nation = pd.Series({'korea':82, 'Japan':81,'China':'cn'})\n",
    "print(nation)"
   ]
  },
  {
   "cell_type": "code",
   "execution_count": 6,
   "id": "ad8b9ddf-ba14-4bc1-a993-e4d625c95a76",
   "metadata": {},
   "outputs": [
    {
     "name": "stdout",
     "output_type": "stream",
     "text": [
      "   kim  Park  Sam  Wokn  lee\n",
      "0   12    32   21   100   32\n",
      "1   23    43   54    32   45\n",
      "2   54    12   75    54   12\n"
     ]
    }
   ],
   "source": [
    "scores = {'kim':[12,23,54],'Park':[32,43,12],'Sam':[21,54,75],'Wokn':[100,32,54],'lee':[32,45,12]}\n",
    "scores_df = pd.DataFrame(scores)\n",
    "print(scores_df)"
   ]
  },
  {
   "cell_type": "code",
   "execution_count": 7,
   "id": "4e109c79-26db-4d16-b045-51aa3c1b3e31",
   "metadata": {},
   "outputs": [
    {
     "name": "stdout",
     "output_type": "stream",
     "text": [
      "         kim  Park  Sam  Wokn  lee\n",
      "Math      12    32   21   100   32\n",
      "Econ      23    43   54    32   45\n",
      "Physics   54    12   75    54   12\n",
      "         kim  Park  Sam  Wokn  lee\n",
      "Math      12    32   21   100   32\n",
      "Econ      23    43   54    32   45\n",
      "Physics   54    12   75    54   12\n"
     ]
    }
   ],
   "source": [
    "# Changing index \n",
    "scores_ni = pd.DataFrame(scores, index = ['Math','Econ','Physics'])\n",
    "print(scores_ni)\n",
    "scores_df.index = ['Math','Econ','Physics']\n",
    "print(scores_df)"
   ]
  },
  {
   "cell_type": "code",
   "execution_count": 8,
   "id": "82ca6b29-6487-44d9-93ed-02715363501c",
   "metadata": {},
   "outputs": [
    {
     "name": "stdout",
     "output_type": "stream",
     "text": [
      "         kim  Park  Sam  Wokn  lee\n",
      "Math      12    32   21   100   32\n",
      "Econ      23    43   54    32   45\n",
      "Physics   54    12   75    54   12\n",
      "32 32\n"
     ]
    }
   ],
   "source": [
    "print(scores_df)\n",
    "print(scores_df.at['Econ','Wokn'], scores_df.iat[1,3])"
   ]
  },
  {
   "cell_type": "code",
   "execution_count": 11,
   "id": "a22c991f-9651-4b02-9240-a70424851f9b",
   "metadata": {},
   "outputs": [
    {
     "data": {
      "text/html": [
       "<div>\n",
       "<style scoped>\n",
       "    .dataframe tbody tr th:only-of-type {\n",
       "        vertical-align: middle;\n",
       "    }\n",
       "\n",
       "    .dataframe tbody tr th {\n",
       "        vertical-align: top;\n",
       "    }\n",
       "\n",
       "    .dataframe thead th {\n",
       "        text-align: right;\n",
       "    }\n",
       "</style>\n",
       "<table border=\"1\" class=\"dataframe\">\n",
       "  <thead>\n",
       "    <tr style=\"text-align: right;\">\n",
       "      <th></th>\n",
       "      <th>kim</th>\n",
       "      <th>Park</th>\n",
       "      <th>Sam</th>\n",
       "      <th>Wokn</th>\n",
       "      <th>lee</th>\n",
       "    </tr>\n",
       "  </thead>\n",
       "  <tbody>\n",
       "    <tr>\n",
       "      <th>Math</th>\n",
       "      <td>NaN</td>\n",
       "      <td>32.0</td>\n",
       "      <td>21</td>\n",
       "      <td>100</td>\n",
       "      <td>32.0</td>\n",
       "    </tr>\n",
       "    <tr>\n",
       "      <th>Econ</th>\n",
       "      <td>23.0</td>\n",
       "      <td>43.0</td>\n",
       "      <td>54</td>\n",
       "      <td>32</td>\n",
       "      <td>45.0</td>\n",
       "    </tr>\n",
       "    <tr>\n",
       "      <th>Physics</th>\n",
       "      <td>54.0</td>\n",
       "      <td>NaN</td>\n",
       "      <td>75</td>\n",
       "      <td>54</td>\n",
       "      <td>NaN</td>\n",
       "    </tr>\n",
       "  </tbody>\n",
       "</table>\n",
       "</div>"
      ],
      "text/plain": [
       "          kim  Park  Sam  Wokn   lee\n",
       "Math      NaN  32.0   21   100  32.0\n",
       "Econ     23.0  43.0   54    32  45.0\n",
       "Physics  54.0   NaN   75    54   NaN"
      ]
     },
     "execution_count": 11,
     "metadata": {},
     "output_type": "execute_result"
    }
   ],
   "source": [
    "scores_df[scores_df >= 20]"
   ]
  },
  {
   "cell_type": "code",
   "execution_count": 12,
   "id": "a26778a7-3fb0-4cdf-b392-38254c865841",
   "metadata": {},
   "outputs": [
    {
     "data": {
      "text/html": [
       "<div>\n",
       "<style scoped>\n",
       "    .dataframe tbody tr th:only-of-type {\n",
       "        vertical-align: middle;\n",
       "    }\n",
       "\n",
       "    .dataframe tbody tr th {\n",
       "        vertical-align: top;\n",
       "    }\n",
       "\n",
       "    .dataframe thead th {\n",
       "        text-align: right;\n",
       "    }\n",
       "</style>\n",
       "<table border=\"1\" class=\"dataframe\">\n",
       "  <thead>\n",
       "    <tr style=\"text-align: right;\">\n",
       "      <th></th>\n",
       "      <th>kim</th>\n",
       "      <th>Park</th>\n",
       "      <th>Sam</th>\n",
       "      <th>Wokn</th>\n",
       "      <th>lee</th>\n",
       "    </tr>\n",
       "  </thead>\n",
       "  <tbody>\n",
       "    <tr>\n",
       "      <th>Math</th>\n",
       "      <td>12</td>\n",
       "      <td>32</td>\n",
       "      <td>21</td>\n",
       "      <td>100</td>\n",
       "      <td>32</td>\n",
       "    </tr>\n",
       "    <tr>\n",
       "      <th>Econ</th>\n",
       "      <td>23</td>\n",
       "      <td>43</td>\n",
       "      <td>54</td>\n",
       "      <td>32</td>\n",
       "      <td>45</td>\n",
       "    </tr>\n",
       "    <tr>\n",
       "      <th>Physics</th>\n",
       "      <td>54</td>\n",
       "      <td>12</td>\n",
       "      <td>75</td>\n",
       "      <td>54</td>\n",
       "      <td>12</td>\n",
       "    </tr>\n",
       "  </tbody>\n",
       "</table>\n",
       "</div>"
      ],
      "text/plain": [
       "         kim  Park  Sam  Wokn  lee\n",
       "Math      12    32   21   100   32\n",
       "Econ      23    43   54    32   45\n",
       "Physics   54    12   75    54   12"
      ]
     },
     "execution_count": 12,
     "metadata": {},
     "output_type": "execute_result"
    }
   ],
   "source": [
    "scores_df[scores_df >= 20 & (scores_df > 80)]"
   ]
  },
  {
   "cell_type": "code",
   "execution_count": 13,
   "id": "06d927a7-f3bf-41e6-9b10-727ede36cbee",
   "metadata": {},
   "outputs": [
    {
     "name": "stdout",
     "output_type": "stream",
     "text": [
      "          kim    Park     Sam     Wokn     lee\n",
      "count   3.000   3.000   3.000    3.000   3.000\n",
      "mean   29.667  29.000  50.000   62.000  29.667\n",
      "std    21.779  15.716  27.221   34.699  16.623\n",
      "min    12.000  12.000  21.000   32.000  12.000\n",
      "25%    17.500  22.000  37.500   43.000  22.000\n",
      "50%    23.000  32.000  54.000   54.000  32.000\n",
      "75%    38.500  37.500  64.500   77.000  38.500\n",
      "max    54.000  43.000  75.000  100.000  45.000\n"
     ]
    }
   ],
   "source": [
    "pd.set_option('precision', 3)\n",
    "print(scores_df.describe())"
   ]
  },
  {
   "cell_type": "code",
   "execution_count": 14,
   "id": "189efe2c-ca25-47be-9e40-542170bd9e83",
   "metadata": {},
   "outputs": [
    {
     "data": {
      "text/plain": [
       "kim     29.667\n",
       "Park    29.000\n",
       "Sam     50.000\n",
       "Wokn    62.000\n",
       "lee     29.667\n",
       "dtype: float64"
      ]
     },
     "execution_count": 14,
     "metadata": {},
     "output_type": "execute_result"
    }
   ],
   "source": [
    "scores_df.mean()"
   ]
  },
  {
   "cell_type": "code",
   "execution_count": 15,
   "id": "61fc1cb9-f20e-40e5-be0d-69df4d38a939",
   "metadata": {},
   "outputs": [
    {
     "data": {
      "text/html": [
       "<div>\n",
       "<style scoped>\n",
       "    .dataframe tbody tr th:only-of-type {\n",
       "        vertical-align: middle;\n",
       "    }\n",
       "\n",
       "    .dataframe tbody tr th {\n",
       "        vertical-align: top;\n",
       "    }\n",
       "\n",
       "    .dataframe thead th {\n",
       "        text-align: right;\n",
       "    }\n",
       "</style>\n",
       "<table border=\"1\" class=\"dataframe\">\n",
       "  <thead>\n",
       "    <tr style=\"text-align: right;\">\n",
       "      <th></th>\n",
       "      <th>Math</th>\n",
       "      <th>Econ</th>\n",
       "      <th>Physics</th>\n",
       "    </tr>\n",
       "  </thead>\n",
       "  <tbody>\n",
       "    <tr>\n",
       "      <th>kim</th>\n",
       "      <td>12</td>\n",
       "      <td>23</td>\n",
       "      <td>54</td>\n",
       "    </tr>\n",
       "    <tr>\n",
       "      <th>Park</th>\n",
       "      <td>32</td>\n",
       "      <td>43</td>\n",
       "      <td>12</td>\n",
       "    </tr>\n",
       "    <tr>\n",
       "      <th>Sam</th>\n",
       "      <td>21</td>\n",
       "      <td>54</td>\n",
       "      <td>75</td>\n",
       "    </tr>\n",
       "    <tr>\n",
       "      <th>Wokn</th>\n",
       "      <td>100</td>\n",
       "      <td>32</td>\n",
       "      <td>54</td>\n",
       "    </tr>\n",
       "    <tr>\n",
       "      <th>lee</th>\n",
       "      <td>32</td>\n",
       "      <td>45</td>\n",
       "      <td>12</td>\n",
       "    </tr>\n",
       "  </tbody>\n",
       "</table>\n",
       "</div>"
      ],
      "text/plain": [
       "      Math  Econ  Physics\n",
       "kim     12    23       54\n",
       "Park    32    43       12\n",
       "Sam     21    54       75\n",
       "Wokn   100    32       54\n",
       "lee     32    45       12"
      ]
     },
     "execution_count": 15,
     "metadata": {},
     "output_type": "execute_result"
    }
   ],
   "source": [
    "scores_df.T"
   ]
  },
  {
   "cell_type": "code",
   "execution_count": 16,
   "id": "7646b021-70f8-497e-8685-ae5b3509d05c",
   "metadata": {},
   "outputs": [
    {
     "data": {
      "text/html": [
       "<div>\n",
       "<style scoped>\n",
       "    .dataframe tbody tr th:only-of-type {\n",
       "        vertical-align: middle;\n",
       "    }\n",
       "\n",
       "    .dataframe tbody tr th {\n",
       "        vertical-align: top;\n",
       "    }\n",
       "\n",
       "    .dataframe thead th {\n",
       "        text-align: right;\n",
       "    }\n",
       "</style>\n",
       "<table border=\"1\" class=\"dataframe\">\n",
       "  <thead>\n",
       "    <tr style=\"text-align: right;\">\n",
       "      <th></th>\n",
       "      <th>Math</th>\n",
       "      <th>Econ</th>\n",
       "      <th>Physics</th>\n",
       "    </tr>\n",
       "  </thead>\n",
       "  <tbody>\n",
       "    <tr>\n",
       "      <th>count</th>\n",
       "      <td>5.000</td>\n",
       "      <td>5.000</td>\n",
       "      <td>5.000</td>\n",
       "    </tr>\n",
       "    <tr>\n",
       "      <th>mean</th>\n",
       "      <td>39.400</td>\n",
       "      <td>39.400</td>\n",
       "      <td>41.400</td>\n",
       "    </tr>\n",
       "    <tr>\n",
       "      <th>std</th>\n",
       "      <td>34.897</td>\n",
       "      <td>12.054</td>\n",
       "      <td>28.174</td>\n",
       "    </tr>\n",
       "    <tr>\n",
       "      <th>min</th>\n",
       "      <td>12.000</td>\n",
       "      <td>23.000</td>\n",
       "      <td>12.000</td>\n",
       "    </tr>\n",
       "    <tr>\n",
       "      <th>25%</th>\n",
       "      <td>21.000</td>\n",
       "      <td>32.000</td>\n",
       "      <td>12.000</td>\n",
       "    </tr>\n",
       "    <tr>\n",
       "      <th>50%</th>\n",
       "      <td>32.000</td>\n",
       "      <td>43.000</td>\n",
       "      <td>54.000</td>\n",
       "    </tr>\n",
       "    <tr>\n",
       "      <th>75%</th>\n",
       "      <td>32.000</td>\n",
       "      <td>45.000</td>\n",
       "      <td>54.000</td>\n",
       "    </tr>\n",
       "    <tr>\n",
       "      <th>max</th>\n",
       "      <td>100.000</td>\n",
       "      <td>54.000</td>\n",
       "      <td>75.000</td>\n",
       "    </tr>\n",
       "  </tbody>\n",
       "</table>\n",
       "</div>"
      ],
      "text/plain": [
       "          Math    Econ  Physics\n",
       "count    5.000   5.000    5.000\n",
       "mean    39.400  39.400   41.400\n",
       "std     34.897  12.054   28.174\n",
       "min     12.000  23.000   12.000\n",
       "25%     21.000  32.000   12.000\n",
       "50%     32.000  43.000   54.000\n",
       "75%     32.000  45.000   54.000\n",
       "max    100.000  54.000   75.000"
      ]
     },
     "execution_count": 16,
     "metadata": {},
     "output_type": "execute_result"
    }
   ],
   "source": [
    "scores_df.T.describe()"
   ]
  },
  {
   "cell_type": "code",
   "execution_count": 17,
   "id": "8fb6466c-8996-4f78-9c5a-4940dfbf4af7",
   "metadata": {},
   "outputs": [
    {
     "data": {
      "text/html": [
       "<div>\n",
       "<style scoped>\n",
       "    .dataframe tbody tr th:only-of-type {\n",
       "        vertical-align: middle;\n",
       "    }\n",
       "\n",
       "    .dataframe tbody tr th {\n",
       "        vertical-align: top;\n",
       "    }\n",
       "\n",
       "    .dataframe thead th {\n",
       "        text-align: right;\n",
       "    }\n",
       "</style>\n",
       "<table border=\"1\" class=\"dataframe\">\n",
       "  <thead>\n",
       "    <tr style=\"text-align: right;\">\n",
       "      <th></th>\n",
       "      <th>Sam</th>\n",
       "      <th>lee</th>\n",
       "      <th>Park</th>\n",
       "      <th>Wokn</th>\n",
       "      <th>kim</th>\n",
       "    </tr>\n",
       "  </thead>\n",
       "  <tbody>\n",
       "    <tr>\n",
       "      <th>Math</th>\n",
       "      <td>21</td>\n",
       "      <td>32</td>\n",
       "      <td>32</td>\n",
       "      <td>100</td>\n",
       "      <td>12</td>\n",
       "    </tr>\n",
       "    <tr>\n",
       "      <th>Econ</th>\n",
       "      <td>54</td>\n",
       "      <td>45</td>\n",
       "      <td>43</td>\n",
       "      <td>32</td>\n",
       "      <td>23</td>\n",
       "    </tr>\n",
       "    <tr>\n",
       "      <th>Physics</th>\n",
       "      <td>75</td>\n",
       "      <td>12</td>\n",
       "      <td>12</td>\n",
       "      <td>54</td>\n",
       "      <td>54</td>\n",
       "    </tr>\n",
       "  </tbody>\n",
       "</table>\n",
       "</div>"
      ],
      "text/plain": [
       "         Sam  lee  Park  Wokn  kim\n",
       "Math      21   32    32   100   12\n",
       "Econ      54   45    43    32   23\n",
       "Physics   75   12    12    54   54"
      ]
     },
     "execution_count": 17,
     "metadata": {},
     "output_type": "execute_result"
    }
   ],
   "source": [
    "scores_df.sort_values(by = 'Econ', axis = 1, ascending = False)"
   ]
  },
  {
   "cell_type": "code",
   "execution_count": 18,
   "id": "c2d8843f-8aa7-4452-996e-a0240ff33323",
   "metadata": {},
   "outputs": [
    {
     "data": {
      "text/html": [
       "<div>\n",
       "<style scoped>\n",
       "    .dataframe tbody tr th:only-of-type {\n",
       "        vertical-align: middle;\n",
       "    }\n",
       "\n",
       "    .dataframe tbody tr th {\n",
       "        vertical-align: top;\n",
       "    }\n",
       "\n",
       "    .dataframe thead th {\n",
       "        text-align: right;\n",
       "    }\n",
       "</style>\n",
       "<table border=\"1\" class=\"dataframe\">\n",
       "  <thead>\n",
       "    <tr style=\"text-align: right;\">\n",
       "      <th></th>\n",
       "      <th>Math</th>\n",
       "      <th>Econ</th>\n",
       "      <th>Physics</th>\n",
       "    </tr>\n",
       "  </thead>\n",
       "  <tbody>\n",
       "    <tr>\n",
       "      <th>Sam</th>\n",
       "      <td>21</td>\n",
       "      <td>54</td>\n",
       "      <td>75</td>\n",
       "    </tr>\n",
       "    <tr>\n",
       "      <th>lee</th>\n",
       "      <td>32</td>\n",
       "      <td>45</td>\n",
       "      <td>12</td>\n",
       "    </tr>\n",
       "    <tr>\n",
       "      <th>Park</th>\n",
       "      <td>32</td>\n",
       "      <td>43</td>\n",
       "      <td>12</td>\n",
       "    </tr>\n",
       "    <tr>\n",
       "      <th>Wokn</th>\n",
       "      <td>100</td>\n",
       "      <td>32</td>\n",
       "      <td>54</td>\n",
       "    </tr>\n",
       "    <tr>\n",
       "      <th>kim</th>\n",
       "      <td>12</td>\n",
       "      <td>23</td>\n",
       "      <td>54</td>\n",
       "    </tr>\n",
       "  </tbody>\n",
       "</table>\n",
       "</div>"
      ],
      "text/plain": [
       "      Math  Econ  Physics\n",
       "Sam     21    54       75\n",
       "lee     32    45       12\n",
       "Park    32    43       12\n",
       "Wokn   100    32       54\n",
       "kim     12    23       54"
      ]
     },
     "execution_count": 18,
     "metadata": {},
     "output_type": "execute_result"
    }
   ],
   "source": [
    "scores_df.T.sort_values(by = 'Econ', ascending = False)"
   ]
  },
  {
   "cell_type": "code",
   "execution_count": 20,
   "id": "5d9c7c90-70a9-4a74-8654-812e28be2b49",
   "metadata": {},
   "outputs": [
    {
     "name": "stdout",
     "output_type": "stream",
     "text": [
      "    Year  Rank  Marker\n",
      "0   1990     0  Hundai\n",
      "1   1991     1   Honda\n",
      "2   1992     2     Kia\n",
      "3   1993     3    Audi\n",
      "4   1994     4  Hundai\n",
      "5   1995     5   Honda\n",
      "6   1996     6     Kia\n",
      "7   1997     7    Audi\n",
      "8   1998     8  Hundai\n",
      "9   1999     9   Honda\n",
      "10  2000    10     Kia\n",
      "11  2001    11    Audi\n",
      "12  2002    12  Hundai\n",
      "13  2003    13   Honda\n",
      "14  2004    14     Kia\n"
     ]
    }
   ],
   "source": [
    "auto_firms = ['Hundai', 'Honda', 'Kia', 'Audi','Hundai', 'Honda', 'Kia', 'Audi','Hundai', 'Honda', 'Kia', 'Audi','Hundai', 'Honda', 'Kia']\n",
    "Year = list(range(1990,2005,1)); Rank = list(range(15))\n",
    "auto_df = pd.DataFrame({'Year':Year, 'Rank':Rank, 'Marker':auto_firms})\n",
    "print(auto_df)"
   ]
  },
  {
   "cell_type": "code",
   "execution_count": 22,
   "id": "769c07ff-1b14-4724-8d7d-d110c2cf4244",
   "metadata": {},
   "outputs": [
    {
     "name": "stdout",
     "output_type": "stream",
     "text": [
      "    Audi  Honda  Hundai  Kia\n",
      "0      0      0       1    0\n",
      "1      0      1       0    0\n",
      "2      0      0       0    1\n",
      "3      1      0       0    0\n",
      "4      0      0       1    0\n",
      "5      0      1       0    0\n",
      "6      0      0       0    1\n",
      "7      1      0       0    0\n",
      "8      0      0       1    0\n",
      "9      0      1       0    0\n",
      "10     0      0       0    1\n",
      "11     1      0       0    0\n",
      "12     0      0       1    0\n",
      "13     0      1       0    0\n",
      "14     0      0       0    1\n"
     ]
    }
   ],
   "source": [
    "am_onehot = pd.get_dummies(auto_df['Marker'])\n",
    "print(am_onehot)"
   ]
  },
  {
   "cell_type": "code",
   "execution_count": null,
   "id": "f23711f0-3675-4934-81d1-22e219deb4b9",
   "metadata": {},
   "outputs": [],
   "source": []
  }
 ],
 "metadata": {
  "kernelspec": {
   "display_name": "Python 3 (ipykernel)",
   "language": "python",
   "name": "python3"
  },
  "language_info": {
   "codemirror_mode": {
    "name": "ipython",
    "version": 3
   },
   "file_extension": ".py",
   "mimetype": "text/x-python",
   "name": "python",
   "nbconvert_exporter": "python",
   "pygments_lexer": "ipython3",
   "version": "3.8.12"
  }
 },
 "nbformat": 4,
 "nbformat_minor": 5
}
