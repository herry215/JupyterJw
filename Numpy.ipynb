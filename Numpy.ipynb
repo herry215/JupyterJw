{
 "cells": [
  {
   "cell_type": "code",
   "execution_count": 5,
   "id": "65785686-ce91-42b7-864e-a09afaf65b6d",
   "metadata": {},
   "outputs": [
    {
     "name": "stdout",
     "output_type": "stream",
     "text": [
      "[ 7  8  9 10 11]\n",
      "object type: <class 'numpy.ndarray'>\n",
      "  data type: int32\n",
      "      shape:(5,)\n",
      "  dimension: 1\n",
      " arary size: 5\n",
      "(1, 5)\n"
     ]
    }
   ],
   "source": [
    "import numpy as np\n",
    "a = np.array([7,8,9,10,11])\n",
    "print(f'{a}\\n{\"object type:\":>12} {type(a)}\\n{\"data type:\":>12} {a.dtype}\\n{\"shape:\":>12}\\\n",
    "{a.shape}\\n{\"dimension:\" :>12} {a.ndim}\\n{\"arary size:\":>12} {a.size}')\n",
    "a1 = np.array([a]);\n",
    "print(a1.shape)"
   ]
  },
  {
   "cell_type": "code",
   "execution_count": 7,
   "id": "415b8e53-6607-463b-ac4c-a08a627d5399",
   "metadata": {},
   "outputs": [
    {
     "name": "stdout",
     "output_type": "stream",
     "text": [
      "[[0. 0. 0.]\n",
      " [0. 0. 0.]]\n",
      "[[1. 1. 1. 1.]\n",
      " [1. 1. 1. 1.]]\n",
      "[[7 7 7 7 7]\n",
      " [7 7 7 7 7]]\n",
      "[[1. 0. 0.]\n",
      " [0. 1. 0.]\n",
      " [0. 0. 1.]]\n"
     ]
    }
   ],
   "source": [
    "a_zeros = np.zeros((2,3))\n",
    "print(a_zeros)\n",
    "a_ones = np.ones((2,4))\n",
    "print(a_ones)\n",
    "a_full = np.full((2,5),7)\n",
    "print(a_full)\n",
    "print(np.eye(3))"
   ]
  },
  {
   "cell_type": "code",
   "execution_count": 9,
   "id": "14de04c3-185b-422b-a534-fe30ae13fec9",
   "metadata": {},
   "outputs": [
    {
     "name": "stdout",
     "output_type": "stream",
     "text": [
      "[[[0.3504713  0.93930173 0.17884891 0.79361422]\n",
      "  [0.6019204  0.58906672 0.91354099 0.58726184]\n",
      "  [0.36865311 0.00744724 0.3404848  0.24826325]]\n",
      "\n",
      " [[0.66674831 0.06390485 0.58940797 0.42781017]\n",
      "  [0.25381134 0.89791623 0.00859205 0.99221197]\n",
      "  [0.12423708 0.23922012 0.98719366 0.05719457]]]\n",
      "float64\n"
     ]
    }
   ],
   "source": [
    "a_ran = np.random.random((2,3,4))\n",
    "print(f'{a_ran}\\n{a_ran.dtype}')"
   ]
  },
  {
   "cell_type": "code",
   "execution_count": 19,
   "id": "63521650-b2d0-4d93-999d-eb226e379237",
   "metadata": {},
   "outputs": [
    {
     "name": "stdout",
     "output_type": "stream",
     "text": [
      "[ 0  1  2  3  4  5  6  7  8  9 10 11 12 13 14 15 16 17 18 19 20 21 22 23\n",
      " 24 25 26 27]\n",
      "<class 'numpy.ndarray'>\n",
      "[[[ 0  1  2  3  4  5  6]\n",
      "  [ 7  8  9 10 11 12 13]]\n",
      "\n",
      " [[14 15 16 17 18 19 20]\n",
      "  [21 22 23 24 25 26 27]]]\n"
     ]
    }
   ],
   "source": [
    "g = np.arange(28)\n",
    "print(f'{g}\\n{type(g)}')\n",
    "print(g.reshape(2,2,7))"
   ]
  },
  {
   "cell_type": "code",
   "execution_count": 21,
   "id": "301ad676-5475-4056-8b4b-4cd3b00276fd",
   "metadata": {},
   "outputs": [
    {
     "name": "stdout",
     "output_type": "stream",
     "text": [
      "[ 5  7  9 11 13 15 17 19]\n",
      "[[ 1  2  3  4  5  6  7  8  9 10]\n",
      " [11 12 13 14 15 16 17 18 19 20]]\n"
     ]
    }
   ],
   "source": [
    "h = np.arange(5, 21, 2)\n",
    "print(h)\n",
    "print(np.arange(1,21).reshape(2,10))"
   ]
  },
  {
   "cell_type": "code",
   "execution_count": 22,
   "id": "e26ccd6a-70bf-419f-88b4-7fb3c9f0c6b9",
   "metadata": {},
   "outputs": [
    {
     "name": "stdout",
     "output_type": "stream",
     "text": [
      "[0.  0.1 0.2 0.3 0.4 0.5 0.6 0.7 0.8 0.9 1. ]\n",
      "(11,)\n",
      "11\n"
     ]
    }
   ],
   "source": [
    "a_ss = np.linspace(0,1,11)\n",
    "print(f'{a_ss}\\n{a_ss.shape}\\n{a_ss.size}')"
   ]
  },
  {
   "cell_type": "code",
   "execution_count": null,
   "id": "587a14e7-0349-4e3f-b98a-2f3f997db35c",
   "metadata": {},
   "outputs": [],
   "source": []
  }
 ],
 "metadata": {
  "kernelspec": {
   "display_name": "Python 3 (ipykernel)",
   "language": "python",
   "name": "python3"
  },
  "language_info": {
   "codemirror_mode": {
    "name": "ipython",
    "version": 3
   },
   "file_extension": ".py",
   "mimetype": "text/x-python",
   "name": "python",
   "nbconvert_exporter": "python",
   "pygments_lexer": "ipython3",
   "version": "3.8.12"
  }
 },
 "nbformat": 4,
 "nbformat_minor": 5
}
