{
 "cells": [
  {
   "cell_type": "code",
   "execution_count": 2,
   "id": "9038881f-56e3-455c-9e2e-dcb76187b91b",
   "metadata": {},
   "outputs": [
    {
     "name": "stdout",
     "output_type": "stream",
     "text": [
      "[11, 12, 13]\n",
      "['P', 'y', 't', 'h', 'o', 'n', ' ', 'K', 'o', 'o', 'c'] 11\n",
      "['P', 'y', 't', 'h', 'o', 'n', ' ', 'K', 'o', 'o', 'c', 'M', 'o', 'o', 'c'] 15\n"
     ]
    }
   ],
   "source": [
    "# Appending a list\n",
    "list2 =[]\n",
    "for item in range(11, 14, 1):\n",
    "    list2 += [item]\n",
    "#   list2.append(item)\n",
    "print(list2)\n",
    "\n",
    "# Appending a string to a list\n",
    "list3 = []\n",
    "list3 += 'Python Kooc'\n",
    "print(list3, len(list3))\n",
    "\n",
    "#Appending a typle to a list\n",
    "list3 += ('M','o','o','c')\n",
    "print(list3, len(list3))"
   ]
  },
  {
   "cell_type": "code",
   "execution_count": 3,
   "id": "27126d40-d506-4cd1-9394-8b45fd0692ae",
   "metadata": {},
   "outputs": [
    {
     "name": "stdout",
     "output_type": "stream",
     "text": [
      "(10, 20, 30, 'John', 40, 50)\n"
     ]
    }
   ],
   "source": [
    "#An example of a tuple\n",
    "t1 = 10, 20, 30, 'John'\n",
    "t1 += (40, 50)\n",
    "print(t1)"
   ]
  },
  {
   "cell_type": "code",
   "execution_count": 4,
   "id": "46b58bab-e637-4433-a806-0a80798ec453",
   "metadata": {},
   "outputs": [
    {
     "name": "stdout",
     "output_type": "stream",
     "text": [
      "(1, 2, 3, 4)\n",
      "3\n",
      "(1, 2, 3)\n"
     ]
    }
   ],
   "source": [
    "t2 = tuple([1,2,3,4])\n",
    "print(t2)\n",
    "print(t2[2])\n",
    "print(t2[:3])"
   ]
  },
  {
   "cell_type": "markdown",
   "id": "4b5d17f1-7195-416e-9a01-d1f7d432d6b0",
   "metadata": {},
   "source": [
    "### 4. Enumerate: A built-in function\\은\n",
    "for문을 사용하지않고 index와 값을 뽑아낸다."
   ]
  },
  {
   "cell_type": "code",
   "execution_count": 6,
   "id": "bfc506da-947e-46a5-ad86-fa2961821012",
   "metadata": {},
   "outputs": [
    {
     "name": "stdout",
     "output_type": "stream",
     "text": [
      "[(0, 'r'), (1, 'y'), (2, 'b'), (3, 'b'), (4, 'w')]\n",
      "((0, 'r'), (1, 'y'), (2, 'b'), (3, 'b'), (4, 'w'))\n",
      "0: r\n",
      "1: y\n",
      "2: b\n",
      "3: b\n",
      "4: w\n"
     ]
    }
   ],
   "source": [
    "colors = ['r','y','b','b','w']\n",
    "print(list(enumerate(colors)))\n",
    "print(tuple(enumerate(colors)))\n",
    "\n",
    "# printing index and value of the list\n",
    "for index, color in enumerate(colors):\n",
    "    print(f'{index}: {color}')"
   ]
  },
  {
   "cell_type": "markdown",
   "id": "6a9b4433-56b3-4dae-855a-5a0bfffc8bdb",
   "metadata": {},
   "source": [
    "### 9. List comprehensions"
   ]
  },
  {
   "cell_type": "code",
   "execution_count": 13,
   "id": "e1446657-997d-4405-a48e-46697e565bd2",
   "metadata": {},
   "outputs": [
    {
     "name": "stdout",
     "output_type": "stream",
     "text": [
      "[0, 2, 4, 6, 8]\n",
      "[0, 2, 4, 6, 8]\n",
      "[1, 3, 5, 7, 9]\n"
     ]
    }
   ],
   "source": [
    "list_range = list(range(0,10,2))\n",
    "print(list_range)\n",
    "\n",
    "list_com = [i for i in range(0,10,2)]\n",
    "print(list_com)\n",
    "\n",
    "list_con = [i for i in range(0,10) if i % 2 != 0]\n",
    "print(list_con)\n",
    "\n",
    "a_string = 'I love you, and do you love me'"
   ]
  },
  {
   "cell_type": "code",
   "execution_count": 14,
   "id": "70a81177-469d-4147-8432-184e7bbaa4ae",
   "metadata": {},
   "outputs": [
    {
     "name": "stdout",
     "output_type": "stream",
     "text": [
      "[0, 4, 16, 36, 64]\n"
     ]
    },
    {
     "ename": "NameError",
     "evalue": "name 'a_String' is not defined",
     "output_type": "error",
     "traceback": [
      "\u001b[1;31m---------------------------------------------------------------------------\u001b[0m",
      "\u001b[1;31mNameError\u001b[0m                                 Traceback (most recent call last)",
      "\u001b[1;32m~\\AppData\\Local\\Temp/ipykernel_21588/2650038300.py\u001b[0m in \u001b[0;36m<module>\u001b[1;34m\u001b[0m\n\u001b[0;32m      2\u001b[0m \u001b[0mprint\u001b[0m\u001b[1;33m(\u001b[0m\u001b[0mlist_op\u001b[0m\u001b[1;33m)\u001b[0m\u001b[1;33m\u001b[0m\u001b[1;33m\u001b[0m\u001b[0m\n\u001b[0;32m      3\u001b[0m \u001b[1;33m\u001b[0m\u001b[0m\n\u001b[1;32m----> 4\u001b[1;33m \u001b[0mlist_up\u001b[0m \u001b[1;33m=\u001b[0m \u001b[1;33m[\u001b[0m\u001b[0mi\u001b[0m\u001b[1;33m.\u001b[0m\u001b[0mupper\u001b[0m\u001b[1;33m(\u001b[0m\u001b[1;33m)\u001b[0m \u001b[1;32mfor\u001b[0m \u001b[0mi\u001b[0m \u001b[1;32min\u001b[0m \u001b[0ma_String\u001b[0m\u001b[1;33m]\u001b[0m\u001b[1;33m\u001b[0m\u001b[1;33m\u001b[0m\u001b[0m\n\u001b[0m\u001b[0;32m      5\u001b[0m \u001b[0mprint\u001b[0m\u001b[1;33m(\u001b[0m\u001b[0mlist_up\u001b[0m\u001b[1;33m)\u001b[0m\u001b[1;33m\u001b[0m\u001b[1;33m\u001b[0m\u001b[0m\n",
      "\u001b[1;31mNameError\u001b[0m: name 'a_String' is not defined"
     ]
    }
   ],
   "source": [
    "list_op = [i**2 for i in range(0,10,2)]\n",
    "print(list_op)\n",
    "\n",
    "list_up = [i.upper() for i in a_String]\n",
    "print(list_up)"
   ]
  },
  {
   "cell_type": "code",
   "execution_count": 18,
   "id": "2cce0b63-eb67-4477-a64b-4790ccf19183",
   "metadata": {},
   "outputs": [
    {
     "name": "stdout",
     "output_type": "stream",
     "text": [
      "<generator object <genexpr> at 0x000001DDCA8449E0>\n",
      "[4, 8, 20, 40, 68]\n"
     ]
    }
   ],
   "source": [
    "# Generator expression: list is not created, only generator onject\n",
    "list_gen = (i**2 for i in range(10) if i % 2 == 0)\n",
    "print(list_gen)\n",
    "list_gen1 = [i + 4 for i in list_gen]\n",
    "print(list_gen1)"
   ]
  },
  {
   "cell_type": "code",
   "execution_count": 19,
   "id": "20193587-31e9-462b-8176-f6ebc9c17af7",
   "metadata": {},
   "outputs": [
    {
     "name": "stdout",
     "output_type": "stream",
     "text": [
      "[0, 1, 2, 3, 4, 5, 6, 7, 8, 9, 10, 11, 12, 13, 14, 15, 16, 17, 18, 19, 20, 21, 22, 23, 24]\n"
     ]
    }
   ],
   "source": [
    "list3 = list(range(0,25))\n",
    "print(list3)\n",
    "\n",
    "def is_multiple3(x):\n",
    "    \"\"\"return True if x is a multiple of 3\"\"\"\n",
    "    return x % 3 == 0"
   ]
  },
  {
   "cell_type": "code",
   "execution_count": 20,
   "id": "35d1ae41-4c17-4641-b4c2-e302f3215029",
   "metadata": {},
   "outputs": [
    {
     "data": {
      "text/plain": [
       "[0, 3, 6, 9, 12, 15, 18, 21, 24]"
      ]
     },
     "execution_count": 20,
     "metadata": {},
     "output_type": "execute_result"
    }
   ],
   "source": [
    "list(filter(is_multiple3, list3))"
   ]
  },
  {
   "cell_type": "code",
   "execution_count": 21,
   "id": "d8d1ab40-1fe1-46bd-9320-e6eda57c704b",
   "metadata": {},
   "outputs": [
    {
     "data": {
      "text/plain": [
       "[0, 3, 6, 9, 12, 15, 18, 21, 24]"
      ]
     },
     "execution_count": 21,
     "metadata": {},
     "output_type": "execute_result"
    }
   ],
   "source": [
    "list4 = list(filter(lambda x: x % 3 == 0, list3))\n",
    "list4"
   ]
  },
  {
   "cell_type": "markdown",
   "id": "85280181-7809-4d9b-8d51-0cf8982231cc",
   "metadata": {},
   "source": [
    "2차원 index list이해하기  "
   ]
  },
  {
   "cell_type": "markdown",
   "id": "75b4c8c9-8adb-476e-aa1b-337200cfee0c",
   "metadata": {},
   "source": [
    "## Two and multi dimensional lists"
   ]
  },
  {
   "cell_type": "code",
   "execution_count": 1,
   "id": "b992650f-0769-4385-a822-6b06fa79ab4d",
   "metadata": {},
   "outputs": [
    {
     "name": "stdout",
     "output_type": "stream",
     "text": [
      "[[1, 2, 3, 4], [5, 6, 7, 8], [9, 10, 11, 12]]\n",
      "1 2 3 4 \n",
      "5 6 7 8 \n",
      "9 10 11 12 \n"
     ]
    }
   ],
   "source": [
    "a = [[1,2,3,4],[5,6,7,8],[9,10,11,12]]\n",
    "print(a)\n",
    "for row in a:\n",
    "    for column in row:\n",
    "        print(column, end=' ')\n",
    "    print()"
   ]
  },
  {
   "cell_type": "markdown",
   "id": "b888967a-5ec5-4bfd-b725-a61ca1121e58",
   "metadata": {},
   "source": [
    "## Python: Dictionaries and Sets"
   ]
  },
  {
   "cell_type": "code",
   "execution_count": 2,
   "id": "69213896-38f3-4d38-aee3-21d2cd482d70",
   "metadata": {},
   "outputs": [
    {
     "name": "stdout",
     "output_type": "stream",
     "text": [
      "Kr\n"
     ]
    }
   ],
   "source": [
    "countries = {'Korea': 'Kr', 'Japan':'jp', 'Taiwan': 'tw', 'Finalnd':'fi'}\n",
    "print(countries['Korea'])"
   ]
  },
  {
   "cell_type": "code",
   "execution_count": 3,
   "id": "70f802e0-6389-439b-a9b5-473475a8ad86",
   "metadata": {},
   "outputs": [
    {
     "name": "stdout",
     "output_type": "stream",
     "text": [
      "the country code of korea is kr.\n",
      "the country code of japan is jp.\n",
      "the country code of taiwan is tw.\n",
      "the country code of finland is fi.\n"
     ]
    }
   ],
   "source": [
    "countries = {'korea':'kr','japan':'jp','taiwan':'tw', 'finland':'fi'}\n",
    "for country, code in countries.items():\n",
    "    print(f'the country code of {country} is {code}.')"
   ]
  },
  {
   "cell_type": "code",
   "execution_count": 4,
   "id": "04c6ab8d-c8a1-4465-a6f0-a67bd293545d",
   "metadata": {},
   "outputs": [
    {
     "name": "stdout",
     "output_type": "stream",
     "text": [
      "korea japan taiwan finland \n",
      "kr jp tw fi "
     ]
    }
   ],
   "source": [
    "for country in countries.keys():\n",
    "    print(country, end=' ')\n",
    "print()\n",
    "for codes in countries.values():\n",
    "    print(codes, end=' ')"
   ]
  },
  {
   "cell_type": "code",
   "execution_count": 7,
   "id": "5b3c062a-ce02-49c9-9cdb-6b1d799114a4",
   "metadata": {},
   "outputs": [
    {
     "name": "stdout",
     "output_type": "stream",
     "text": [
      "['korea', 'japan', 'taiwan', 'finland']\n",
      "[82, 81, 886, 358]\n",
      "[('korea', 82), ('japan', 81), ('taiwan', 886), ('finland', 358)] ('japan', 81)\n"
     ]
    }
   ],
   "source": [
    "c_codes = {'korea':82, 'japan':81, 'taiwan':886, 'finland':358}\n",
    "print(list(c_codes.keys()))\n",
    "print(list(c_codes.values()))\n",
    "l_countries = list(c_codes.items())\n",
    "print(l_countries, l_countries[1])"
   ]
  },
  {
   "cell_type": "code",
   "execution_count": 10,
   "id": "548ea2f8-8b23-4484-a7e3-0bf272b716f9",
   "metadata": {},
   "outputs": [
    {
     "name": "stdout",
     "output_type": "stream",
     "text": [
      "['korea', 'japan', 'taiwan', 'finland']\n",
      "[82, 81, 886, 358]\n",
      "[('korea', 82), ('japan', 81), ('taiwan', 886), ('finland', 358)] ('taiwan', 886)\n"
     ]
    }
   ],
   "source": [
    "c_codes = {'korea':82, 'japan':81, 'taiwan':886, 'finland':358}\n",
    "print(list(c_codes.keys()))\n",
    "print(list(c_codes.values()))\n",
    "l_countries = list(c_codes.items())\n",
    "print(l_countries, l_countries[2])"
   ]
  },
  {
   "cell_type": "code",
   "execution_count": 13,
   "id": "d37630b5-9828-4029-9982-cefa8ffb93f2",
   "metadata": {},
   "outputs": [
    {
     "ename": "SyntaxError",
     "evalue": "EOL while scanning string literal (Temp/ipykernel_19848/1315564980.py, line 7)",
     "output_type": "error",
     "traceback": [
      "\u001b[1;36m  File \u001b[1;32m\"C:\\Users\\JW\\AppData\\Local\\Temp/ipykernel_19848/1315564980.py\"\u001b[1;36m, line \u001b[1;32m7\u001b[0m\n\u001b[1;33m    print(f'temp_mean{temp_mean.2f})\u001b[0m\n\u001b[1;37m                                    ^\u001b[0m\n\u001b[1;31mSyntaxError\u001b[0m\u001b[1;31m:\u001b[0m EOL while scanning string literal\n"
     ]
    }
   ],
   "source": [
    "switched = {code: country for country, code in c_codes.items()}\n",
    "print(sorted(switched.items()))\n",
    "\n",
    "#Making a new dictrionary with a dictionary\n",
    "temperature = {'Japan':[23,24,25], 'Korea':[22,23,24]}\n",
    "temp_mean = {k: sum(v)/len(v) for k, v in temperature.items()}\n",
    "print(temp_mean)\n",
    "\n",
    "s_value = {k:v for k, v in sorted(c_codes.items(), key = lambda country: country[1])}\n",
    "print(s_value)"
   ]
  },
  {
   "cell_type": "code",
   "execution_count": 19,
   "id": "9ea11ff0-21db-489f-9880-edb6445178b4",
   "metadata": {},
   "outputs": [],
   "source": [
    "dream = \"\"\"I have a dream that one day this nation will rise up and live out the true meaning of its creed We hold these truths to be self-evident that all men are created equal\n",
    "\n",
    "I have a dream that one day on the red hills of Georgia the sons of former slaves and the sons of former slave owners will be able to sit down together at the table of brotherhood\n",
    "\n",
    "I have a dream that one day even the state of Mississippi a state sweltering with the heat of injustice sweltering with the heat of oppression, will be transformed into an oasis of freedom and justice\n",
    "\n",
    "I have a dream that my four little children will one day live in a nation where they will not be judged by the color of their skin but by the content of their character\n",
    "\n",
    "I have a dream today\n",
    "\n",
    "I have a dream that one day, down in Alabama, with its vicious racists, with its governor having his lips dripping with the words of interposition and nullification one day right there in Alabama little black boys and black girls will be able to join hands with little white boys and white girls as sisters and brothers\"\"\""
   ]
  },
  {
   "cell_type": "code",
   "execution_count": 23,
   "id": "4d1f78fc-487f-420f-9f86-b04048e315a4",
   "metadata": {},
   "outputs": [
    {
     "name": "stdout",
     "output_type": "stream",
     "text": [
      "{'of': 12, 'the': 11, 'a': 8, 'and': 7, 'I': 6, 'have': 6, 'dream': 6, 'that': 6, 'one': 6, 'will': 6, 'with': 6, 'day': 5, 'be': 5, 'its': 3, 'to': 3, 'little': 3, 'in': 3, 'nation': 2, 'live': 2, 'sons': 2, 'former': 2, 'able': 2, 'down': 2, 'state': 2, 'sweltering': 2, 'heat': 2, 'by': 2, 'their': 2, 'black': 2, 'boys': 2, 'girls': 2, 'white': 2, 'this': 1, 'rise': 1, 'up': 1, 'out': 1, 'true': 1, 'meaning': 1, 'creed': 1, 'We': 1, 'hold': 1, 'these': 1, 'truths': 1, 'self-evident': 1, 'all': 1, 'men': 1, 'are': 1, 'created': 1, 'equal': 1, 'on': 1, 'red': 1, 'hills': 1, 'Georgia': 1, 'slaves': 1, 'slave': 1, 'owners': 1, 'sit': 1, 'together': 1, 'at': 1, 'table': 1, 'brotherhood': 1, 'even': 1, 'Mississippi': 1, 'injustice': 1, 'oppression,': 1, 'transformed': 1, 'into': 1, 'an': 1, 'oasis': 1, 'freedom': 1, 'justice': 1, 'my': 1, 'four': 1, 'children': 1, 'where': 1, 'they': 1, 'not': 1, 'judged': 1, 'color': 1, 'skin': 1, 'but': 1, 'content': 1, 'character': 1, 'today': 1, 'day,': 1, 'Alabama,': 1, 'vicious': 1, 'racists,': 1, 'governor': 1, 'having': 1, 'his': 1, 'lips': 1, 'dripping': 1, 'words': 1, 'interposition': 1, 'nullification': 1, 'right': 1, 'there': 1, 'Alabama': 1, 'join': 1, 'hands': 1, 'as': 1, 'sisters': 1, 'brothers': 1}\n"
     ]
    }
   ],
   "source": [
    "dream_words = dream.split()\n",
    "#print(dream_words)\n",
    "wordlist = {}\n",
    "for word in dream_words:\n",
    "    if word in wordlist:\n",
    "        wordlist[word] += 1\n",
    "    else:\n",
    "        wordlist[word] = 1\n",
    "        \n",
    "#print(wordlist, len(wordlist))\n",
    "swl_byvalue = {k: v for k, v in sorted(wordlist.items(), key=lambda i: i[1], reverse=True)}\n",
    "print(swl_byvalue)"
   ]
  },
  {
   "cell_type": "code",
   "execution_count": 24,
   "id": "e3de7cdf-55b3-4fe4-9170-83c5c7d0d460",
   "metadata": {},
   "outputs": [
    {
     "name": "stdout",
     "output_type": "stream",
     "text": [
      "WORD            COUNT\n",
      "of              12\n",
      "the             11\n",
      "a               8\n",
      "and             7\n",
      "I               6\n",
      "have            6\n",
      "dream           6\n",
      "that            6\n",
      "one             6\n",
      "will            6\n",
      "with            6\n",
      "\n",
      "Number of unique words:  104\n"
     ]
    }
   ],
   "source": [
    "print(f'{\"WORD\":<16}COUNT')\n",
    "\n",
    "for word, count in swl_byvalue.items():\n",
    "    if count >= 6:\n",
    "        print(f'{word:<16}{count}')\n",
    "print('\\nNumber of unique words: ', len(wordlist))\n",
    "#from collections import Counter를 사용해서 \n",
    "#wordlist1 = Counter(dream_words) 하면 for문을 돌리지않아도 처리가 가능하다."
   ]
  },
  {
   "cell_type": "code",
   "execution_count": 1,
   "id": "3a78fd17-d5d6-4053-b5ba-dc7e3469dbf5",
   "metadata": {},
   "outputs": [
    {
     "name": "stdout",
     "output_type": "stream",
     "text": [
      "{0, 1, 2, 3, 4, 5, 6, 7, 8, 9, 10, 11, 12, 13, 14}\n",
      "15\n",
      "True\n"
     ]
    }
   ],
   "source": [
    "digits = set(list(range(10))+list(range(5,15)))\n",
    "print(digits)\n",
    "print(len(digits))\n",
    "print(10 in digits)"
   ]
  },
  {
   "cell_type": "code",
   "execution_count": 2,
   "id": "fce34da4-f1de-4e53-8116-8ad163050735",
   "metadata": {},
   "outputs": [
    {
     "name": "stdout",
     "output_type": "stream",
     "text": [
      "{0, 1, 2, 3, 4, 5, 6, 7, 9, 10, 11, 12, 13, 14}\n"
     ]
    }
   ],
   "source": [
    "digits.remove(8)\n",
    "print(digits)"
   ]
  },
  {
   "cell_type": "code",
   "execution_count": 3,
   "id": "0f1bde4f-c3c1-41d1-84fb-c910cb4f34d5",
   "metadata": {},
   "outputs": [
    {
     "name": "stdout",
     "output_type": "stream",
     "text": [
      "set()\n"
     ]
    }
   ],
   "source": [
    "digits.clear()\n",
    "print(digits)"
   ]
  },
  {
   "cell_type": "code",
   "execution_count": 4,
   "id": "787c207a-e06c-44ee-98b6-97be59e989ae",
   "metadata": {},
   "outputs": [
    {
     "name": "stdout",
     "output_type": "stream",
     "text": [
      "{0, 1, 2, 3, 4, 5, 6, 7, 8, 9}\n"
     ]
    }
   ],
   "source": [
    "digits.update(range(10))\n",
    "print(digits)"
   ]
  },
  {
   "cell_type": "code",
   "execution_count": null,
   "id": "4de67353-0284-4d88-b2d1-892e76a10749",
   "metadata": {},
   "outputs": [],
   "source": []
  }
 ],
 "metadata": {
  "kernelspec": {
   "display_name": "Python 3 (ipykernel)",
   "language": "python",
   "name": "python3"
  },
  "language_info": {
   "codemirror_mode": {
    "name": "ipython",
    "version": 3
   },
   "file_extension": ".py",
   "mimetype": "text/x-python",
   "name": "python",
   "nbconvert_exporter": "python",
   "pygments_lexer": "ipython3",
   "version": "3.8.12"
  }
 },
 "nbformat": 4,
 "nbformat_minor": 5
}
