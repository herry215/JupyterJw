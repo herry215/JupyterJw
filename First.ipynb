{
 "cells": [
  {
   "cell_type": "code",
   "execution_count": 1,
   "id": "08348b58-0303-4bde-8f12-95d9dd3a59ec",
   "metadata": {},
   "outputs": [],
   "source": [
    "import tensorflow as tf"
   ]
  },
  {
   "cell_type": "code",
   "execution_count": 4,
   "id": "43357b2f-26a5-45b6-b3e9-e05973d4c617",
   "metadata": {},
   "outputs": [
    {
     "name": "stdout",
     "output_type": "stream",
     "text": [
      "tf.Tensor(b'hello, Tensorflow!', shape=(), dtype=string)\n"
     ]
    }
   ],
   "source": [
    "hello=tf.constant(\"hello, Tensorflow!\")\n",
    "print(hello)"
   ]
  },
  {
   "cell_type": "code",
   "execution_count": 12,
   "id": "7b9b66df-c2a3-44a7-aeb1-8869aecf6947",
   "metadata": {},
   "outputs": [
    {
     "name": "stdout",
     "output_type": "stream",
     "text": [
      "myfirst\n",
      "coding\n",
      "myfirstcoding\n",
      "myfirscoding\n"
     ]
    }
   ],
   "source": [
    "print('myfirst\\ncoding')#들여쓰기 중요\n",
    "print('myfirstcoding')\n",
    "print('myfirscoding')"
   ]
  },
  {
   "cell_type": "markdown",
   "id": "2f98be89-1b11-4db1-b01c-e3a85e5a43d5",
   "metadata": {
    "tags": []
   },
   "source": [
    "# Python Basic"
   ]
  },
  {
   "cell_type": "markdown",
   "id": "a28502e7-95b8-4744-8076-04f1ffa5a32a",
   "metadata": {},
   "source": [
    "__1.Correct identation and string__\n",
    "\n",
    "2. integers, flats and decimals: using Python as a calculator"
   ]
  },
  {
   "cell_type": "code",
   "execution_count": 10,
   "id": "4034097c-7660-43d2-b330-7ab54de22549",
   "metadata": {},
   "outputs": [],
   "source": [
    "23 + 47\n",
    "x=4"
   ]
  },
  {
   "cell_type": "code",
   "execution_count": 14,
   "id": "0284f5ef-c5c1-4871-b2fd-de6cd02b32ce",
   "metadata": {},
   "outputs": [
    {
     "name": "stdout",
     "output_type": "stream",
     "text": [
      "True\n",
      "False\n",
      "<class 'bool'> True\n"
     ]
    }
   ],
   "source": [
    "print(7 > 3)\n",
    "print(3 > 7)\n",
    "x = 7 > 3\n",
    "print(type(x), x)"
   ]
  },
  {
   "cell_type": "code",
   "execution_count": 16,
   "id": "8eac9ab0-0c5c-48a6-ba24-181af858f3b4",
   "metadata": {},
   "outputs": [
    {
     "name": "stdin",
     "output_type": "stream",
     "text": [
      "your age? 24\n"
     ]
    },
    {
     "name": "stdout",
     "output_type": "stream",
     "text": [
      "24\n"
     ]
    }
   ],
   "source": [
    "x=int(input('your age?'))\n",
    "print(x)"
   ]
  },
  {
   "cell_type": "code",
   "execution_count": 4,
   "id": "f4f298dc-f075-44a5-97ff-2135f261af07",
   "metadata": {},
   "outputs": [
    {
     "name": "stdin",
     "output_type": "stream",
     "text": [
      "Type your weight 93\n"
     ]
    },
    {
     "name": "stdout",
     "output_type": "stream",
     "text": [
      "fat! Exercise!\n"
     ]
    }
   ],
   "source": [
    "weight = int(input(\"Type your weight\"))\n",
    "\n",
    "if weight >= 90:\n",
    "    print(\"fat!\", \"Exercise!\")\n",
    "elif weight >= 60:\n",
    "    print(\"normal\")\n",
    "else:\n",
    "    print(\"thin\")\n",
    "    print(\"Eat More!\")"
   ]
  },
  {
   "cell_type": "code",
   "execution_count": null,
   "id": "dbc30585-6614-44a8-bea5-f208979b7707",
   "metadata": {},
   "outputs": [],
   "source": [
    "for item in[1,2,3,4,5]:\n",
    "    print(\"item :\", item)\n",
    "    \n",
    "letters = ['A','B','C','D']\n",
    "for i in letters:\n",
    "    print(\"letters :\", i)"
   ]
  },
  {
   "cell_type": "code",
   "execution_count": 15,
   "id": "d97de1b4-74ca-4924-a5bd-ec049d17acca",
   "metadata": {},
   "outputs": [],
   "source": [
    "\"\"\"Creating your own function with a single parameter\"\"\"\n",
    "import math\n",
    "\n",
    "def circle(radius):\n",
    "    \"\"\"Calculates area and circumference of a circle with a radius\"\"\"\n",
    "    return math.pi*radius**2, 2*math.pi*radius"
   ]
  },
  {
   "cell_type": "code",
   "execution_count": 16,
   "id": "7388a6ad-5d54-4812-8b05-8f24058c4453",
   "metadata": {},
   "outputs": [
    {
     "data": {
      "text/plain": [
       "(28.274333882308138, 18.84955592153876)"
      ]
     },
     "execution_count": 16,
     "metadata": {},
     "output_type": "execute_result"
    }
   ],
   "source": [
    "circle(3)"
   ]
  },
  {
   "cell_type": "code",
   "execution_count": 9,
   "id": "dcae96a8-bebd-4aa2-b6ba-da698384d0f9",
   "metadata": {},
   "outputs": [
    {
     "name": "stdout",
     "output_type": "stream",
     "text": [
      "the area and circumference of a circle with 3mc radius are 28.27cm squared and 18.85cm.\n"
     ]
    }
   ],
   "source": [
    "x = 3\n",
    "print(f'the area and circumference of a circle with {x}mc radius \\\n",
    "are {circle(x)[0]:.2f}cm squared and {circle(x)[1]:.2f}cm.')"
   ]
  },
  {
   "cell_type": "markdown",
   "id": "84296f01-cb3b-4707-998b-c318c14c1ffc",
   "metadata": {},
   "source": [
    "looking up a function's docstring"
   ]
  },
  {
   "cell_type": "code",
   "execution_count": 17,
   "id": "9cb20975-ba2f-4b04-8c18-4fc7566b7185",
   "metadata": {},
   "outputs": [
    {
     "data": {
      "text/plain": [
       "\u001b[1;31mSignature:\u001b[0m \u001b[0mcircle\u001b[0m\u001b[1;33m(\u001b[0m\u001b[0mradius\u001b[0m\u001b[1;33m)\u001b[0m\u001b[1;33m\u001b[0m\u001b[1;33m\u001b[0m\u001b[0m\n",
       "\u001b[1;31mDocstring:\u001b[0m Calculates area and circumference of a circle with a radius\n",
       "\u001b[1;31mFile:\u001b[0m      c:\\users\\jw\\appdata\\local\\temp\\ipykernel_13476\\18616337.py\n",
       "\u001b[1;31mType:\u001b[0m      function\n"
      ]
     },
     "metadata": {},
     "output_type": "display_data"
    }
   ],
   "source": [
    "circle?"
   ]
  },
  {
   "cell_type": "code",
   "execution_count": 19,
   "id": "cab29ef7-e562-4c92-8b2f-0b8412b33a9e",
   "metadata": {},
   "outputs": [],
   "source": [
    "# parameters, x and y are comma separated and called local variables."
   ]
  },
  {
   "cell_type": "code",
   "execution_count": 20,
   "id": "b6ec3696-e935-41b9-bea6-9933b9c7854c",
   "metadata": {},
   "outputs": [],
   "source": [
    "def myfunction(x,y):\n",
    "    \"\"\"addition, multiplication and division\"\"\"\n",
    "    return x+y, x*y, x/y"
   ]
  },
  {
   "cell_type": "code",
   "execution_count": 21,
   "id": "ece72ad5-a05a-4e49-bf32-6096f29d431f",
   "metadata": {},
   "outputs": [
    {
     "data": {
      "text/plain": [
       "(21, 54, 6.0)"
      ]
     },
     "execution_count": 21,
     "metadata": {},
     "output_type": "execute_result"
    }
   ],
   "source": [
    "myfunction(18,3)"
   ]
  },
  {
   "cell_type": "code",
   "execution_count": 3,
   "id": "7c0fb572-182e-4630-8e51-a4909ba2856a",
   "metadata": {},
   "outputs": [],
   "source": [
    "def findmin():\n",
    "    \"\"\"finding the minimum among tree integers\"\"\"\n",
    "    \n",
    "    x=int(input('Enter first integer: '))\n",
    "    y=int(input('Enter second integer: '))\n",
    "    z=int(input('Enter third integer: '))\n",
    "    minimum = x\n",
    "    if y < minimum:\n",
    "        minimum = y\n",
    "    if z < minimum:\n",
    "        minimum = z\n",
    "    print('maximum small integer.!')\n",
    "    return minimum"
   ]
  },
  {
   "cell_type": "code",
   "execution_count": 4,
   "id": "bf581e25-d44d-4c58-9d5d-8248d65d8b18",
   "metadata": {},
   "outputs": [
    {
     "name": "stdin",
     "output_type": "stream",
     "text": [
      "Enter first integer:  49\n",
      "Enter second integer:  19\n",
      "Enter third integer:  64\n"
     ]
    },
    {
     "name": "stdout",
     "output_type": "stream",
     "text": [
      "maximum small integer.!\n"
     ]
    },
    {
     "data": {
      "text/plain": [
       "19"
      ]
     },
     "execution_count": 4,
     "metadata": {},
     "output_type": "execute_result"
    }
   ],
   "source": [
    "findmin()"
   ]
  },
  {
   "cell_type": "code",
   "execution_count": 5,
   "id": "0330d28d-dfc0-4dbd-bb87-8674a06fed33",
   "metadata": {},
   "outputs": [],
   "source": [
    "def findmin1(x, y, z):\n",
    "    \"\"\"Another function for finding a minimum\"\"\"\n",
    "    \n",
    "    return min(x, y, z)"
   ]
  },
  {
   "cell_type": "code",
   "execution_count": 11,
   "id": "f3526ea9-c3e6-41e2-b5a6-2e21738d3a4a",
   "metadata": {},
   "outputs": [
    {
     "name": "stdout",
     "output_type": "stream",
     "text": [
      "3\n",
      "4\n"
     ]
    }
   ],
   "source": [
    "print(findmin1(3,5,6))\n",
    "print(x)"
   ]
  },
  {
   "cell_type": "code",
   "execution_count": 7,
   "id": "a659991f-0e0c-46dd-b5e6-bb56c69d67dd",
   "metadata": {},
   "outputs": [
    {
     "data": {
      "text/plain": [
       "\u001b[1;31mSignature:\u001b[0m \u001b[0mfindmin1\u001b[0m\u001b[1;33m(\u001b[0m\u001b[0mx\u001b[0m\u001b[1;33m,\u001b[0m \u001b[0my\u001b[0m\u001b[1;33m,\u001b[0m \u001b[0mz\u001b[0m\u001b[1;33m)\u001b[0m\u001b[1;33m\u001b[0m\u001b[1;33m\u001b[0m\u001b[0m\n",
       "\u001b[1;31mDocstring:\u001b[0m Another function for finding a minimum\n",
       "\u001b[1;31mFile:\u001b[0m      c:\\users\\jw\\appdata\\local\\temp\\ipykernel_13136\\2319390998.py\n",
       "\u001b[1;31mType:\u001b[0m      function\n"
      ]
     },
     "metadata": {},
     "output_type": "display_data"
    }
   ],
   "source": [
    "findmin1?"
   ]
  },
  {
   "cell_type": "code",
   "execution_count": 12,
   "id": "6e66f957-652b-483b-a22d-f31c2d725512",
   "metadata": {},
   "outputs": [
    {
     "name": "stdout",
     "output_type": "stream",
     "text": [
      "Minimum is 8.\n"
     ]
    }
   ],
   "source": [
    "print(f'Minimum is {findmin1(10,9,8)}.')"
   ]
  },
  {
   "cell_type": "code",
   "execution_count": 15,
   "id": "e2f85dc8-9d9c-4462-8178-9879e9e5beab",
   "metadata": {},
   "outputs": [],
   "source": [
    "def rectangle(width = 3, height = 5):\n",
    "    \"\"\"Calculaing the area of a rectangle\"\"\"\n",
    "    \n",
    "    return width*height"
   ]
  },
  {
   "cell_type": "code",
   "execution_count": 16,
   "id": "d36beb9d-cd43-4a64-997c-c9f0568c35e0",
   "metadata": {},
   "outputs": [
    {
     "name": "stdout",
     "output_type": "stream",
     "text": [
      "15 25 20\n"
     ]
    }
   ],
   "source": [
    "print(rectangle(), rectangle(5), rectangle(4,5))"
   ]
  },
  {
   "cell_type": "code",
   "execution_count": 18,
   "id": "7c93e2fd-1293-4e9d-8417-6116761d6210",
   "metadata": {},
   "outputs": [
    {
     "name": "stdout",
     "output_type": "stream",
     "text": [
      "12 42\n"
     ]
    }
   ],
   "source": [
    "print(rectangle(height=4), rectangle(height=6, width=7))"
   ]
  },
  {
   "cell_type": "code",
   "execution_count": 19,
   "id": "959178d3-d11f-429a-8954-d176e1244ba4",
   "metadata": {},
   "outputs": [],
   "source": [
    "def my_average(*nums):\n",
    "    \"\"\"Calculating average with multiple numbers\"\"\"\n",
    "    return sum(nums)/len(nums)"
   ]
  },
  {
   "cell_type": "code",
   "execution_count": 20,
   "id": "3c5d2657-d69f-4771-96ea-4b9cf6b2af7d",
   "metadata": {},
   "outputs": [
    {
     "data": {
      "text/plain": [
       "36.2"
      ]
     },
     "execution_count": 20,
     "metadata": {},
     "output_type": "execute_result"
    }
   ],
   "source": [
    "my_average(34,65,23,16,43)"
   ]
  },
  {
   "cell_type": "code",
   "execution_count": 21,
   "id": "7581040b-1c6a-40a1-a79c-a3035823e234",
   "metadata": {},
   "outputs": [
    {
     "data": {
      "text/plain": [
       "5.5"
      ]
     },
     "execution_count": 21,
     "metadata": {},
     "output_type": "execute_result"
    }
   ],
   "source": [
    "grades = [1,2,3,4,5,6,7,8,9,10]\n",
    "my_average(*grades)"
   ]
  },
  {
   "cell_type": "code",
   "execution_count": 22,
   "id": "c3ddf21d-f720-4f52-94fe-86c806ee9e3a",
   "metadata": {},
   "outputs": [
    {
     "name": "stdout",
     "output_type": "stream",
     "text": [
      "The area and circumference of a circle with 4cm radius    are 50.27cm squared and 25.133cm.\n",
      "Main function is executed!\n"
     ]
    }
   ],
   "source": [
    "#When a source file is run as a main program, the source file program has the name, __main__.\n",
    "#And if clause becames True and the main function is excuted.\n",
    "%run main_function.py #or %run -i main_function.py\n",
    "#!python main_function.py"
   ]
  },
  {
   "cell_type": "code",
   "execution_count": 23,
   "id": "dc16ba82-957e-474f-8f22-86598aea29ed",
   "metadata": {},
   "outputs": [
    {
     "name": "stdout",
     "output_type": "stream",
     "text": [
      "The area and circumference of a circle with4cm radius    are 50.27cm squared and 25.133cm.\n",
      "Main function is executed!\n"
     ]
    }
   ],
   "source": [
    "def main(x):\n",
    "    \"\"\"An excercise of main function\"\"\"\n",
    "    print(f'The area and circumference of a circle with{x}cm radius\\\n",
    "    are {circle(x)[0]:.2f}cm squared and {circle(x)[1]:.3f}cm.')\n",
    "    print('Main function is executed!')\n",
    "    \n",
    "if __name__ == '__main__':\n",
    "    main(4)"
   ]
  },
  {
   "cell_type": "code",
   "execution_count": 24,
   "id": "20ba0aaf-4666-402c-82dd-2bd74bce01ee",
   "metadata": {},
   "outputs": [
    {
     "name": "stdout",
     "output_type": "stream",
     "text": [
      "(3.141592653589793, 6.283185307179586)\n",
      "main_function\n"
     ]
    }
   ],
   "source": [
    "import main_function as mf\n",
    "print(mf.circle(1))\n",
    "print(mf.__name__)"
   ]
  },
  {
   "cell_type": "code",
   "execution_count": 1,
   "id": "fcb24378-45d0-4f64-9961-19c01b68eefe",
   "metadata": {},
   "outputs": [],
   "source": [
    "import math"
   ]
  },
  {
   "cell_type": "code",
   "execution_count": 3,
   "id": "e0f10ee1-a393-48e1-8b7c-a6f0a0be07b0",
   "metadata": {},
   "outputs": [
    {
     "ename": "SyntaxError",
     "evalue": "invalid syntax (Temp/ipykernel_21356/3416718452.py, line 1)",
     "output_type": "error",
     "traceback": [
      "\u001b[1;36m  File \u001b[1;32m\"C:\\Users\\JW\\AppData\\Local\\Temp/ipykernel_21356/3416718452.py\"\u001b[1;36m, line \u001b[1;32m1\u001b[0m\n\u001b[1;33m    math.?abs\u001b[0m\n\u001b[1;37m         ^\u001b[0m\n\u001b[1;31mSyntaxError\u001b[0m\u001b[1;31m:\u001b[0m invalid syntax\n"
     ]
    }
   ],
   "source": [
    "math.?abs"
   ]
  },
  {
   "cell_type": "code",
   "execution_count": 4,
   "id": "851e19eb-801e-4ae2-b5fa-7041a48736b4",
   "metadata": {},
   "outputs": [
    {
     "name": "stdout",
     "output_type": "stream",
     "text": [
      "6 2 2 3 1 5 2 1 1 2 "
     ]
    }
   ],
   "source": [
    "import random\n",
    "\n",
    "for roll in range(10):\n",
    "    print(random.randrange(1,7), end=' ')"
   ]
  },
  {
   "cell_type": "code",
   "execution_count": 7,
   "id": "8a848d7d-4bf7-44b3-b9e2-219c706470f8",
   "metadata": {},
   "outputs": [
    {
     "name": "stdout",
     "output_type": "stream",
     "text": [
      "Face    Frequency     Ratio\n",
      "   0         4933     49.33\n",
      "   1         5067     50.67\n"
     ]
    }
   ],
   "source": [
    "frequency0 = 0\n",
    "frequency1 = 0\n",
    "sample = 10_000 #천단위 마다 콤마 대신 _로 표기.\n",
    "\n",
    "for roll in range(sample):\n",
    "    face = random.randrange(0,2)\n",
    "    if face == 0:\n",
    "        frequency0 += 1\n",
    "    else:\n",
    "        frequency1 += 1\n",
    "\n",
    "print(f'{\"Face\"}{\"Frequency\":>13}{\"Ratio\":>10}') #:>13은 오른쪽으로 13개만의 공간을 남겨놔라\n",
    "print(f'{0:>4}{frequency0:>13}{frequency0/sample*100:>10.2f}')\n",
    "print(f'{1:>4}{frequency1:>13}{frequency1/sample*100:>10.2f}')"
   ]
  },
  {
   "cell_type": "code",
   "execution_count": 9,
   "id": "3446df3b-2850-42ae-b7db-e4431c24734e",
   "metadata": {},
   "outputs": [
    {
     "name": "stdout",
     "output_type": "stream",
     "text": [
      "4 5 5 2 6 6 6 1 1 1 \n",
      "4 1 4 1 2 1 4 3 3 3 "
     ]
    }
   ],
   "source": [
    "random.seed(21091215)\n",
    "\n",
    "for roll in range(10):\n",
    "    print(random.randrange(1,7), end = ' ')\n",
    "\n",
    "print()\n",
    "for roll in range(10):\n",
    "    print(random.randrange(1,7), end = ' ')"
   ]
  },
  {
   "cell_type": "code",
   "execution_count": 10,
   "id": "5d4dddfa-d566-4686-b50a-163b46e74185",
   "metadata": {},
   "outputs": [
    {
     "name": "stdout",
     "output_type": "stream",
     "text": [
      "4 6 1 5 1 6 2 5 4 4 "
     ]
    }
   ],
   "source": [
    "for roll in range(10):\n",
    "    print(random.randrange(1,7), end = ' ')"
   ]
  },
  {
   "cell_type": "code",
   "execution_count": 12,
   "id": "6c45f1db-121c-43ed-91b1-358eb59aa9a0",
   "metadata": {},
   "outputs": [
    {
     "name": "stdout",
     "output_type": "stream",
     "text": [
      "3.141592653589793 10 9\n",
      "4\n"
     ]
    }
   ],
   "source": [
    "#import\n",
    "from math import ceil, floor, pi\n",
    "import statistics as stat\n",
    "\n",
    "print(pi, ceil(9.8), floor(9.8))\n",
    "x = [3,4,5]\n",
    "print(stat.mean(x))"
   ]
  },
  {
   "cell_type": "code",
   "execution_count": null,
   "id": "bcd42785-64d8-4aad-8e26-4f653d905d2c",
   "metadata": {},
   "outputs": [],
   "source": []
  }
 ],
 "metadata": {
  "kernelspec": {
   "display_name": "Python 3 (ipykernel)",
   "language": "python",
   "name": "python3"
  },
  "language_info": {
   "codemirror_mode": {
    "name": "ipython",
    "version": 3
   },
   "file_extension": ".py",
   "mimetype": "text/x-python",
   "name": "python",
   "nbconvert_exporter": "python",
   "pygments_lexer": "ipython3",
   "version": "3.8.12"
  }
 },
 "nbformat": 4,
 "nbformat_minor": 5
}
